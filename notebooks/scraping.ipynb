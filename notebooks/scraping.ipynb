{
 "cells": [
  {
   "cell_type": "code",
   "execution_count": 1,
   "metadata": {},
   "outputs": [],
   "source": [
    "import requests\n",
    "from bs4 import BeautifulSoup\n",
    "from pathlib import Path\n",
    "import pandas as pd"
   ]
  },
  {
   "cell_type": "code",
   "execution_count": 2,
   "metadata": {},
   "outputs": [
    {
     "name": "stdout",
     "output_type": "stream",
     "text": [
      "Archivo guardado: datasets\\raw\\lesiones.xlsx\n",
      "Archivo guardado: datasets\\raw\\homicidios.xlsx\n",
      "Archivo guardado: datasets\\raw\\NOTAS_LESIONES_SINIESTRO_VIAL.pdf\n",
      "Archivo guardado: datasets\\raw\\NOTAS_HOMICIDIOS_SINIESTRO_VIAL.pdf\n"
     ]
    }
   ],
   "source": [
    "class DatasetDownloader:\n",
    "    def __init__(self, base_url, download_folder):\n",
    "        self.base_url = base_url\n",
    "        self.download_folder = Path(download_folder)\n",
    "        # Asegúrate de que el directorio de descarga exista\n",
    "        self.download_folder.mkdir(parents=True, exist_ok=True)\n",
    "\n",
    "    def scrape_siniestros_urls(self):\n",
    "        response = requests.get(self.base_url)\n",
    "        soup = BeautifulSoup(response.content, 'html.parser')\n",
    "        links = soup.find_all('a')\n",
    "        \n",
    "        file_urls = {}\n",
    "        for link in links:\n",
    "            href = link.get('href')\n",
    "            if href and href.endswith(('.zip', '.xlsx', '.csv', '.gz', '.geojson','.pdf')):\n",
    "                file_name = href.split('/')[-1]\n",
    "                file_urls[file_name] = href\n",
    "        return file_urls\n",
    "\n",
    "    def download_file(self, url, save_path):\n",
    "        response = requests.get(url, stream=True)\n",
    "        if response.status_code == 200:\n",
    "            with open(save_path, 'wb') as f:\n",
    "                f.write(response.content)\n",
    "            print(f\"Archivo guardado: {save_path}\")\n",
    "        else:\n",
    "            print(f\"Error al descargar el archivo: {url}\")\n",
    "\n",
    "    def download_datasets(self):\n",
    "        file_urls_dict = self.scrape_siniestros_urls()\n",
    "        for file_name, url in file_urls_dict.items():\n",
    "            save_path = self.download_folder / file_name\n",
    "            self.download_file(url, save_path)\n",
    "\n",
    "base_url = 'https://data.buenosaires.gob.ar/dataset/victimas-siniestros-viales'\n",
    "download_folder = 'datasets/raw'\n",
    "downloader = DatasetDownloader(base_url, download_folder)\n",
    "downloader.download_datasets()"
   ]
  },
  {
   "cell_type": "code",
   "execution_count": null,
   "metadata": {},
   "outputs": [],
   "source": []
  }
 ],
 "metadata": {
  "kernelspec": {
   "display_name": "Python 3",
   "language": "python",
   "name": "python3"
  },
  "language_info": {
   "codemirror_mode": {
    "name": "ipython",
    "version": 3
   },
   "file_extension": ".py",
   "mimetype": "text/x-python",
   "name": "python",
   "nbconvert_exporter": "python",
   "pygments_lexer": "ipython3",
   "version": "3.10.11"
  }
 },
 "nbformat": 4,
 "nbformat_minor": 2
}
